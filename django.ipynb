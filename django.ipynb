{
 "cells": [
  {
   "cell_type": "markdown",
   "metadata": {},
   "source": [
    "# Python Django Tutorial\n",
    "https://www.youtube.com/watch?v=UmljXZIypDc&list=PL-osiE80TeTtoQCKZ03TU5fNfx2UY6U4p&index=1"
   ]
  },
  {
   "cell_type": "markdown",
   "metadata": {},
   "source": [
    "## Python Django Tutorial: Full-Featured Web App Part 1 - Getting Started\n",
    "Install Django using `pip install django`<br>\n",
    "We can access a list of subcommands by running `django-admin` in the cmd prompt (gitbash) <br>\n",
    "To create a project run `django-admin startproject \"project_name\"`<br>\n",
    "    <li>Creates a subfolder with the project name in the working directory</li>\n",
    "Site can be loaded out the box by navigating into the project directory and running the manage.py file with the following cmd prompt:<br>\n",
    "`python manage.py runserver`<br>\n",
    "The cmd prompt will list warnings and an address. Clicking on the address will open the site in your browser<br>\n",
    "You can access the admin page by appending `/admin` to the address<br>\n",
    "URL route handling is done in the urls.py file"
   ]
  },
  {
   "cell_type": "markdown",
   "metadata": {},
   "source": [
    "## Python Django Tutorial: Full-Featured Web App Part 2 - Applications and Routes\n",
    "### Creating a blog app\n",
    "To start a new app run `python manage.py startapp \"app_name\"` in the cmd prompt, this will create a new project in the project structure<br>\n",
    "1. Create a urls.py file in the project to handle url paths\n",
    "2. Create a new path in the django_project structure urls.py file by adding a path in the url patterns list (if you run the server you will get a 404 error)\n",
    "* We can view the blog page by looking at the `project address + /blog`\n",
    "* The code hits the main urls.py file and looks through the list for the pattern.\n",
    "* It finds blog. The include function removes the string encountered and 'blog' and returns what is left (in this case an empty string)\n",
    "* The code then navigates to the blog project structure and searches for the empty string path (which we set up as an empty string) which runs our views.home function\n",
    "* The home function in the views.py file sends an HTTPResponse containing the h1 Blog Home\n",
    "Added the About page route by defining the `about()` in the views.py file in blog project structure (PS). We then add the path to the urls.py file.<br>\n",
    "* Note we don't need to add the path to the urls.py file in the main project file as the route already handles requests into /about we're just adding an additional route to `/blog/about`<br>\n",
    "All routes are accessible through changing the routes in the urls.py file in the main PS<br>\n",
    "We then make the blog route an empty string as this is what we want our main landing page for our app to be"
   ]
  },
  {
   "cell_type": "code",
   "execution_count": null,
   "metadata": {},
   "outputs": [],
   "source": []
  }
 ],
 "metadata": {
  "kernelspec": {
   "display_name": "Python 3.10.6 ('venv': venv)",
   "language": "python",
   "name": "python3"
  },
  "language_info": {
   "name": "python",
   "version": "3.10.6"
  },
  "orig_nbformat": 4,
  "vscode": {
   "interpreter": {
    "hash": "01fc129597bf2fba3aeae8033f026886f3ed46b13cbd49e090e17f07700137bc"
   }
  }
 },
 "nbformat": 4,
 "nbformat_minor": 2
}
