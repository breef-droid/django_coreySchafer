{
 "cells": [
  {
   "cell_type": "markdown",
   "metadata": {},
   "source": [
    "# Python Django Tutorial\n",
    "https://www.youtube.com/watch?v=UmljXZIypDc&list=PL-osiE80TeTtoQCKZ03TU5fNfx2UY6U4p&index=1"
   ]
  },
  {
   "cell_type": "markdown",
   "metadata": {},
   "source": [
    "## Python Django Tutorial: Full-Featured Web App Part 1 - Getting Started\n",
    "Install Django using `pip install django`<br>\n",
    "We can access a list of subcommands by running `django-admin` in the cmd prompt (gitbash) <br>\n",
    "To create a project run `django-admin startproject project_name`<br>\n",
    "    <li>Creates a subfolder with the project name in the working directory</li>\n",
    "Site can be loaded out the box by navigating into the project directory and running the manage.py file with the following cmd prompt:<br>\n",
    "`python manage.py runserver`<br>\n",
    "The cmd prompt will list warnings and an address. Clicking on the address will open the site in your browser<br>\n",
    "You can access the admin page by appending `/admin` to the address<br>\n",
    "URL route handling is done in the urls.py file"
   ]
  },
  {
   "cell_type": "code",
   "execution_count": null,
   "metadata": {},
   "outputs": [],
   "source": []
  }
 ],
 "metadata": {
  "kernelspec": {
   "display_name": "Python 3.10.6 ('venv': venv)",
   "language": "python",
   "name": "python3"
  },
  "language_info": {
   "name": "python",
   "version": "3.10.6"
  },
  "orig_nbformat": 4,
  "vscode": {
   "interpreter": {
    "hash": "01fc129597bf2fba3aeae8033f026886f3ed46b13cbd49e090e17f07700137bc"
   }
  }
 },
 "nbformat": 4,
 "nbformat_minor": 2
}
