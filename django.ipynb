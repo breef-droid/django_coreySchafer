{
 "cells": [
  {
   "cell_type": "markdown",
   "metadata": {},
   "source": [
    "# Python Django Tutorial\n",
    "https://www.youtube.com/watch?v=UmljXZIypDc&list=PL-osiE80TeTtoQCKZ03TU5fNfx2UY6U4p&index=1"
   ]
  },
  {
   "cell_type": "markdown",
   "metadata": {},
   "source": [
    "## Python Django Tutorial: Full-Featured Web App Part 1 - Getting Started\n",
    "Install Django using `pip install django`<br>\n",
    "We can access a list of subcommands by running `django-admin` in the cmd prompt (gitbash) <br>\n",
    "To create a project run `django-admin startproject \"project_name\"`<br>\n",
    "    <li>Creates a subfolder with the project name in the working directory</li>\n",
    "Site can be loaded out the box by navigating into the project directory and running the manage.py file with the following cmd prompt:<br>\n",
    "`python manage.py runserver`<br>\n",
    "The cmd prompt will list warnings and an address. Clicking on the address will open the site in your browser<br>\n",
    "You can access the admin page by appending `/admin` to the address<br>\n",
    "URL route handling is done in the urls.py file"
   ]
  },
  {
   "cell_type": "markdown",
   "metadata": {},
   "source": [
    "## Python Django Tutorial: Full-Featured Web App Part 2 - Applications and Routes\n",
    "### Creating a blog app\n",
    "To start a new app run `python manage.py startapp \"app_name\"` in the cmd prompt, this will create a new project in the project structure<br>\n",
    "1. Create a urls.py file in the project to handle url paths\n",
    "2. Create a new path in the django_project structure urls.py file by adding a path in the url patterns list (if you run the server you will get a 404 error)\n",
    "* We can view the blog page by looking at the `project address + /blog`\n",
    "* The code hits the main urls.py file and looks through the list for the pattern.\n",
    "* It finds blog. The include function removes the string encountered and 'blog' and returns what is left (in this case an empty string)\n",
    "* The code then navigates to the blog project structure and searches for the empty string path (which we set up as an empty string) which runs our views.home function\n",
    "* The home function in the views.py file sends an HTTPResponse containing the h1 Blog Home\n",
    "Added the About page route by defining the `about()` in the views.py file in blog project structure (PS). We then add the path to the urls.py file.<br>\n",
    "* Note we don't need to add the path to the urls.py file in the main project file as the route already handles requests into /about we're just adding an additional route to `/blog/about`<br>\n",
    "All routes are accessible through changing the routes in the urls.py file in the main PS<br>\n",
    "We then make the blog route an empty string as this is what we want our main landing page for our app to be"
   ]
  },
  {
   "cell_type": "markdown",
   "metadata": {},
   "source": [
    "##  Python Django Tutorial: Full-Featured Web App Part 3 - Templates\n",
    "https://www.youtube.com/watch?v=qDwdMDQ8oX4&list=PL-osiE80TeTtoQCKZ03TU5fNfx2UY6U4p&index=3\n",
    "### Creating templates for generating html\n",
    "Create a template folder in under the blog app PS. By default Django searches through the PS for any folders named `templates`<br>\n",
    "We then create another folder referencing the application it is applicable to (ie Blog) so that we can more clearly reference it when using the templates folder in our code.<br>\n",
    "Your PS should look like this `django_project -> blog -> templates -> blog -> templates.html`<br>\n",
    "___\n",
    "Once we have our html template ready we need to add it to our list of installed apps(ie blog) so that django knows to look there for a templates directory, which is in our apps.py module within the specific app you're creating.<br>\n",
    "In the apps.py file you can see the `BlogConfig(AppConfig) Class`, we need to add the path to the INSTALLED_APPS list in the `django_project` settings.py file `\"app_name\".apps.BlogConfig`<br>\n",
    "___\n",
    "Go back to the blog app views.py file and update the functions using the django.render function to render the html.<br>\n",
    "```\n",
    "return render(request, 'blog/home.html')\n",
    "```\n",
    "Update for the about page function\n",
    "___\n",
    "the render function has a 3rd argument which allows us to access variables in the html<br>\n",
    "```\n",
    "    {% for post in posts %}\n",
    "        <h1>{{ post.title }}</h1>\n",
    "        <p>By {{ post.author }} on {{ post.date_posted }}</p>\n",
    "        <p>{{ post.content }}</p>\n",
    "    {% endfor %}\n",
    "```\n",
    "{% %} - accesses for loops and if statements (which need to be manually closed)<br>\n",
    "{{}} accesses variables, for dictionary's we can access keys via dot notation"
   ]
  },
  {
   "cell_type": "markdown",
   "metadata": {},
   "source": [
    "### Template Inheritance\n",
    "Alot of the html code in each page is repeated.<br>\n",
    "This creates a problem in instances where we want to change something in all pages we need to change them individually in the html templates.<br>\n",
    "To solve this we can create a stock standard html file and allow all other html files to be children of it.<br>\n",
    "Create a `base.html` file, and add in the following code in instances where we want subsequent pages to differ:<br>\n",
    "```\n",
    "<body>\n",
    "    {% block content %}\n",
    "    {% endblock %}\n",
    "</body>\n",
    "``` \n",
    "To use the base file we include the following line in the relevant html file:\n",
    "```\n",
    "{% extends \"blog/base.html\" %}\n",
    "```\n",
    "And to add sections to the block content we access the template variable:\n",
    "```\n",
    "    {% block content %}\n",
    "        {% for post in posts %}\n",
    "            <h1>{{ post.title }}</h1>\n",
    "            <p>By {{ post.author }} on {{ post.date_posted }}</p>\n",
    "            <p>{{ post.content }}</p>\n",
    "        {% endfor %}\n",
    "    {% endblock content %}\n",
    "```\n",
    "___\n",
    "We then import the bootstrap library into the base.html file to ensure all our child pages are styled using the bootstrap styling library"
   ]
  },
  {
   "cell_type": "markdown",
   "metadata": {},
   "source": [
    "Added snippets from snippet folder:<br>\n",
    "https://github.com/CoreyMSchafer/code_snippets/blob/master/Django_Blog/snippets/navigation.html\n",
    "<br>\n",
    "Adding css:<br>\n",
    "Create a static folder in the app PS, save the css file down there.<br>\n",
    "In the base.html file, load the static folder with:\n",
    "```\n",
    "{% load static %}\n",
    "```\n",
    "Then create a link tag in the head section with an href pointing to the static css file you created\n",
    "___\n",
    "We can also reference hrefs in our nav bar links dynamically by creating django template references pointing to the name attributes in the urls.py page:\n",
    "```\n",
    "urlpatterns = [\n",
    "    path('', views.home, name='blog-home'),\n",
    "    path('about/', views.about, name='blog-about'),\n",
    "]\n",
    "```\n",
    "```\n",
    "<a class=\"nav-item nav-link\" href=\"{% url 'blog-home' %}\n",
    "```\n"
   ]
  }
 ],
 "metadata": {
  "kernelspec": {
   "display_name": "Python 3.10.6 ('venv': venv)",
   "language": "python",
   "name": "python3"
  },
  "language_info": {
   "name": "python",
   "version": "3.10.6"
  },
  "orig_nbformat": 4,
  "vscode": {
   "interpreter": {
    "hash": "01fc129597bf2fba3aeae8033f026886f3ed46b13cbd49e090e17f07700137bc"
   }
  }
 },
 "nbformat": 4,
 "nbformat_minor": 2
}
